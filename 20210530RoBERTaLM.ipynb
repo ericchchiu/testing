{
  "nbformat": 4,
  "nbformat_minor": 0,
  "metadata": {
    "colab": {
      "name": "20210530RoBERTaLM",
      "provenance": [],
      "collapsed_sections": [],
      "mount_file_id": "19X2cJaC8KCxuCm5SYBss4zwHWt7tUMut",
      "authorship_tag": "ABX9TyOvTRTnLmSeJe4s+PehB88X",
      "include_colab_link": true
    },
    "kernelspec": {
      "name": "python3",
      "display_name": "Python 3"
    },
    "language_info": {
      "name": "python"
    },
    "widgets": {
      "application/vnd.jupyter.widget-state+json": {
        "bdc73f3fead2435a959100291c5b24b3": {
          "model_module": "@jupyter-widgets/controls",
          "model_name": "HBoxModel",
          "state": {
            "_view_name": "HBoxView",
            "_dom_classes": [],
            "_model_name": "HBoxModel",
            "_view_module": "@jupyter-widgets/controls",
            "_model_module_version": "1.5.0",
            "_view_count": null,
            "_view_module_version": "1.5.0",
            "box_style": "",
            "layout": "IPY_MODEL_fabafa4e319a441d9f8ef9e5ec26f774",
            "_model_module": "@jupyter-widgets/controls",
            "children": [
              "IPY_MODEL_66a518b7618d48539f5c1af959279dfd",
              "IPY_MODEL_b9f7c730eb4c4d99ac93d2858bbfbb00"
            ]
          }
        },
        "fabafa4e319a441d9f8ef9e5ec26f774": {
          "model_module": "@jupyter-widgets/base",
          "model_name": "LayoutModel",
          "state": {
            "_view_name": "LayoutView",
            "grid_template_rows": null,
            "right": null,
            "justify_content": null,
            "_view_module": "@jupyter-widgets/base",
            "overflow": null,
            "_model_module_version": "1.2.0",
            "_view_count": null,
            "flex_flow": null,
            "width": null,
            "min_width": null,
            "border": null,
            "align_items": null,
            "bottom": null,
            "_model_module": "@jupyter-widgets/base",
            "top": null,
            "grid_column": null,
            "overflow_y": null,
            "overflow_x": null,
            "grid_auto_flow": null,
            "grid_area": null,
            "grid_template_columns": null,
            "flex": null,
            "_model_name": "LayoutModel",
            "justify_items": null,
            "grid_row": null,
            "max_height": null,
            "align_content": null,
            "visibility": null,
            "align_self": null,
            "height": null,
            "min_height": null,
            "padding": null,
            "grid_auto_rows": null,
            "grid_gap": null,
            "max_width": null,
            "order": null,
            "_view_module_version": "1.2.0",
            "grid_template_areas": null,
            "object_position": null,
            "object_fit": null,
            "grid_auto_columns": null,
            "margin": null,
            "display": null,
            "left": null
          }
        },
        "66a518b7618d48539f5c1af959279dfd": {
          "model_module": "@jupyter-widgets/controls",
          "model_name": "FloatProgressModel",
          "state": {
            "_view_name": "ProgressView",
            "style": "IPY_MODEL_e42d41deb9954414a3bad416262f0b2d",
            "_dom_classes": [],
            "description": "Downloading: 100%",
            "_model_name": "FloatProgressModel",
            "bar_style": "success",
            "max": 481,
            "_view_module": "@jupyter-widgets/controls",
            "_model_module_version": "1.5.0",
            "value": 481,
            "_view_count": null,
            "_view_module_version": "1.5.0",
            "orientation": "horizontal",
            "min": 0,
            "description_tooltip": null,
            "_model_module": "@jupyter-widgets/controls",
            "layout": "IPY_MODEL_a504525ce6ea44b9a1cc1148a0591c30"
          }
        },
        "b9f7c730eb4c4d99ac93d2858bbfbb00": {
          "model_module": "@jupyter-widgets/controls",
          "model_name": "HTMLModel",
          "state": {
            "_view_name": "HTMLView",
            "style": "IPY_MODEL_7b790d68d2fa4e38b24123d04e4a8814",
            "_dom_classes": [],
            "description": "",
            "_model_name": "HTMLModel",
            "placeholder": "​",
            "_view_module": "@jupyter-widgets/controls",
            "_model_module_version": "1.5.0",
            "value": " 481/481 [00:11&lt;00:00, 41.6B/s]",
            "_view_count": null,
            "_view_module_version": "1.5.0",
            "description_tooltip": null,
            "_model_module": "@jupyter-widgets/controls",
            "layout": "IPY_MODEL_39521db31c604f859247f7223a292d16"
          }
        },
        "e42d41deb9954414a3bad416262f0b2d": {
          "model_module": "@jupyter-widgets/controls",
          "model_name": "ProgressStyleModel",
          "state": {
            "_view_name": "StyleView",
            "_model_name": "ProgressStyleModel",
            "description_width": "initial",
            "_view_module": "@jupyter-widgets/base",
            "_model_module_version": "1.5.0",
            "_view_count": null,
            "_view_module_version": "1.2.0",
            "bar_color": null,
            "_model_module": "@jupyter-widgets/controls"
          }
        },
        "a504525ce6ea44b9a1cc1148a0591c30": {
          "model_module": "@jupyter-widgets/base",
          "model_name": "LayoutModel",
          "state": {
            "_view_name": "LayoutView",
            "grid_template_rows": null,
            "right": null,
            "justify_content": null,
            "_view_module": "@jupyter-widgets/base",
            "overflow": null,
            "_model_module_version": "1.2.0",
            "_view_count": null,
            "flex_flow": null,
            "width": null,
            "min_width": null,
            "border": null,
            "align_items": null,
            "bottom": null,
            "_model_module": "@jupyter-widgets/base",
            "top": null,
            "grid_column": null,
            "overflow_y": null,
            "overflow_x": null,
            "grid_auto_flow": null,
            "grid_area": null,
            "grid_template_columns": null,
            "flex": null,
            "_model_name": "LayoutModel",
            "justify_items": null,
            "grid_row": null,
            "max_height": null,
            "align_content": null,
            "visibility": null,
            "align_self": null,
            "height": null,
            "min_height": null,
            "padding": null,
            "grid_auto_rows": null,
            "grid_gap": null,
            "max_width": null,
            "order": null,
            "_view_module_version": "1.2.0",
            "grid_template_areas": null,
            "object_position": null,
            "object_fit": null,
            "grid_auto_columns": null,
            "margin": null,
            "display": null,
            "left": null
          }
        },
        "7b790d68d2fa4e38b24123d04e4a8814": {
          "model_module": "@jupyter-widgets/controls",
          "model_name": "DescriptionStyleModel",
          "state": {
            "_view_name": "StyleView",
            "_model_name": "DescriptionStyleModel",
            "description_width": "",
            "_view_module": "@jupyter-widgets/base",
            "_model_module_version": "1.5.0",
            "_view_count": null,
            "_view_module_version": "1.2.0",
            "_model_module": "@jupyter-widgets/controls"
          }
        },
        "39521db31c604f859247f7223a292d16": {
          "model_module": "@jupyter-widgets/base",
          "model_name": "LayoutModel",
          "state": {
            "_view_name": "LayoutView",
            "grid_template_rows": null,
            "right": null,
            "justify_content": null,
            "_view_module": "@jupyter-widgets/base",
            "overflow": null,
            "_model_module_version": "1.2.0",
            "_view_count": null,
            "flex_flow": null,
            "width": null,
            "min_width": null,
            "border": null,
            "align_items": null,
            "bottom": null,
            "_model_module": "@jupyter-widgets/base",
            "top": null,
            "grid_column": null,
            "overflow_y": null,
            "overflow_x": null,
            "grid_auto_flow": null,
            "grid_area": null,
            "grid_template_columns": null,
            "flex": null,
            "_model_name": "LayoutModel",
            "justify_items": null,
            "grid_row": null,
            "max_height": null,
            "align_content": null,
            "visibility": null,
            "align_self": null,
            "height": null,
            "min_height": null,
            "padding": null,
            "grid_auto_rows": null,
            "grid_gap": null,
            "max_width": null,
            "order": null,
            "_view_module_version": "1.2.0",
            "grid_template_areas": null,
            "object_position": null,
            "object_fit": null,
            "grid_auto_columns": null,
            "margin": null,
            "display": null,
            "left": null
          }
        },
        "49b12f2dd59b4afc9b32581c4629abe4": {
          "model_module": "@jupyter-widgets/controls",
          "model_name": "HBoxModel",
          "state": {
            "_view_name": "HBoxView",
            "_dom_classes": [],
            "_model_name": "HBoxModel",
            "_view_module": "@jupyter-widgets/controls",
            "_model_module_version": "1.5.0",
            "_view_count": null,
            "_view_module_version": "1.5.0",
            "box_style": "",
            "layout": "IPY_MODEL_0230ee2f8f1d4d8984129ae4b50d5439",
            "_model_module": "@jupyter-widgets/controls",
            "children": [
              "IPY_MODEL_b5ce261df173471ea9ec515e2ab6469d",
              "IPY_MODEL_65559fa037be4feb83eaf9382178bcbf"
            ]
          }
        },
        "0230ee2f8f1d4d8984129ae4b50d5439": {
          "model_module": "@jupyter-widgets/base",
          "model_name": "LayoutModel",
          "state": {
            "_view_name": "LayoutView",
            "grid_template_rows": null,
            "right": null,
            "justify_content": null,
            "_view_module": "@jupyter-widgets/base",
            "overflow": null,
            "_model_module_version": "1.2.0",
            "_view_count": null,
            "flex_flow": null,
            "width": null,
            "min_width": null,
            "border": null,
            "align_items": null,
            "bottom": null,
            "_model_module": "@jupyter-widgets/base",
            "top": null,
            "grid_column": null,
            "overflow_y": null,
            "overflow_x": null,
            "grid_auto_flow": null,
            "grid_area": null,
            "grid_template_columns": null,
            "flex": null,
            "_model_name": "LayoutModel",
            "justify_items": null,
            "grid_row": null,
            "max_height": null,
            "align_content": null,
            "visibility": null,
            "align_self": null,
            "height": null,
            "min_height": null,
            "padding": null,
            "grid_auto_rows": null,
            "grid_gap": null,
            "max_width": null,
            "order": null,
            "_view_module_version": "1.2.0",
            "grid_template_areas": null,
            "object_position": null,
            "object_fit": null,
            "grid_auto_columns": null,
            "margin": null,
            "display": null,
            "left": null
          }
        },
        "b5ce261df173471ea9ec515e2ab6469d": {
          "model_module": "@jupyter-widgets/controls",
          "model_name": "FloatProgressModel",
          "state": {
            "_view_name": "ProgressView",
            "style": "IPY_MODEL_bc6727b81f9d4ea99f438eaed37e8599",
            "_dom_classes": [],
            "description": "Downloading: 100%",
            "_model_name": "FloatProgressModel",
            "bar_style": "success",
            "max": 501200538,
            "_view_module": "@jupyter-widgets/controls",
            "_model_module_version": "1.5.0",
            "value": 501200538,
            "_view_count": null,
            "_view_module_version": "1.5.0",
            "orientation": "horizontal",
            "min": 0,
            "description_tooltip": null,
            "_model_module": "@jupyter-widgets/controls",
            "layout": "IPY_MODEL_1514fb9f50d843b7ad5c2656233a524b"
          }
        },
        "65559fa037be4feb83eaf9382178bcbf": {
          "model_module": "@jupyter-widgets/controls",
          "model_name": "HTMLModel",
          "state": {
            "_view_name": "HTMLView",
            "style": "IPY_MODEL_5ff3f9d4e7574000ba28c42fc3e8b9f8",
            "_dom_classes": [],
            "description": "",
            "_model_name": "HTMLModel",
            "placeholder": "​",
            "_view_module": "@jupyter-widgets/controls",
            "_model_module_version": "1.5.0",
            "value": " 501M/501M [00:11&lt;00:00, 43.8MB/s]",
            "_view_count": null,
            "_view_module_version": "1.5.0",
            "description_tooltip": null,
            "_model_module": "@jupyter-widgets/controls",
            "layout": "IPY_MODEL_57fe5d5fbf4f4f49aca986eb535d3b5e"
          }
        },
        "bc6727b81f9d4ea99f438eaed37e8599": {
          "model_module": "@jupyter-widgets/controls",
          "model_name": "ProgressStyleModel",
          "state": {
            "_view_name": "StyleView",
            "_model_name": "ProgressStyleModel",
            "description_width": "initial",
            "_view_module": "@jupyter-widgets/base",
            "_model_module_version": "1.5.0",
            "_view_count": null,
            "_view_module_version": "1.2.0",
            "bar_color": null,
            "_model_module": "@jupyter-widgets/controls"
          }
        },
        "1514fb9f50d843b7ad5c2656233a524b": {
          "model_module": "@jupyter-widgets/base",
          "model_name": "LayoutModel",
          "state": {
            "_view_name": "LayoutView",
            "grid_template_rows": null,
            "right": null,
            "justify_content": null,
            "_view_module": "@jupyter-widgets/base",
            "overflow": null,
            "_model_module_version": "1.2.0",
            "_view_count": null,
            "flex_flow": null,
            "width": null,
            "min_width": null,
            "border": null,
            "align_items": null,
            "bottom": null,
            "_model_module": "@jupyter-widgets/base",
            "top": null,
            "grid_column": null,
            "overflow_y": null,
            "overflow_x": null,
            "grid_auto_flow": null,
            "grid_area": null,
            "grid_template_columns": null,
            "flex": null,
            "_model_name": "LayoutModel",
            "justify_items": null,
            "grid_row": null,
            "max_height": null,
            "align_content": null,
            "visibility": null,
            "align_self": null,
            "height": null,
            "min_height": null,
            "padding": null,
            "grid_auto_rows": null,
            "grid_gap": null,
            "max_width": null,
            "order": null,
            "_view_module_version": "1.2.0",
            "grid_template_areas": null,
            "object_position": null,
            "object_fit": null,
            "grid_auto_columns": null,
            "margin": null,
            "display": null,
            "left": null
          }
        },
        "5ff3f9d4e7574000ba28c42fc3e8b9f8": {
          "model_module": "@jupyter-widgets/controls",
          "model_name": "DescriptionStyleModel",
          "state": {
            "_view_name": "StyleView",
            "_model_name": "DescriptionStyleModel",
            "description_width": "",
            "_view_module": "@jupyter-widgets/base",
            "_model_module_version": "1.5.0",
            "_view_count": null,
            "_view_module_version": "1.2.0",
            "_model_module": "@jupyter-widgets/controls"
          }
        },
        "57fe5d5fbf4f4f49aca986eb535d3b5e": {
          "model_module": "@jupyter-widgets/base",
          "model_name": "LayoutModel",
          "state": {
            "_view_name": "LayoutView",
            "grid_template_rows": null,
            "right": null,
            "justify_content": null,
            "_view_module": "@jupyter-widgets/base",
            "overflow": null,
            "_model_module_version": "1.2.0",
            "_view_count": null,
            "flex_flow": null,
            "width": null,
            "min_width": null,
            "border": null,
            "align_items": null,
            "bottom": null,
            "_model_module": "@jupyter-widgets/base",
            "top": null,
            "grid_column": null,
            "overflow_y": null,
            "overflow_x": null,
            "grid_auto_flow": null,
            "grid_area": null,
            "grid_template_columns": null,
            "flex": null,
            "_model_name": "LayoutModel",
            "justify_items": null,
            "grid_row": null,
            "max_height": null,
            "align_content": null,
            "visibility": null,
            "align_self": null,
            "height": null,
            "min_height": null,
            "padding": null,
            "grid_auto_rows": null,
            "grid_gap": null,
            "max_width": null,
            "order": null,
            "_view_module_version": "1.2.0",
            "grid_template_areas": null,
            "object_position": null,
            "object_fit": null,
            "grid_auto_columns": null,
            "margin": null,
            "display": null,
            "left": null
          }
        },
        "45841bba0d214fe89e10a846a7a70c61": {
          "model_module": "@jupyter-widgets/controls",
          "model_name": "HBoxModel",
          "state": {
            "_view_name": "HBoxView",
            "_dom_classes": [],
            "_model_name": "HBoxModel",
            "_view_module": "@jupyter-widgets/controls",
            "_model_module_version": "1.5.0",
            "_view_count": null,
            "_view_module_version": "1.5.0",
            "box_style": "",
            "layout": "IPY_MODEL_ab2a5ef5127845d5a94ec7bf7d01d798",
            "_model_module": "@jupyter-widgets/controls",
            "children": [
              "IPY_MODEL_beb1b5df5ef24c52891048f0ce3f7416",
              "IPY_MODEL_b205aaf40e3a41fe87167bf3d3e28e5d"
            ]
          }
        },
        "ab2a5ef5127845d5a94ec7bf7d01d798": {
          "model_module": "@jupyter-widgets/base",
          "model_name": "LayoutModel",
          "state": {
            "_view_name": "LayoutView",
            "grid_template_rows": null,
            "right": null,
            "justify_content": null,
            "_view_module": "@jupyter-widgets/base",
            "overflow": null,
            "_model_module_version": "1.2.0",
            "_view_count": null,
            "flex_flow": null,
            "width": null,
            "min_width": null,
            "border": null,
            "align_items": null,
            "bottom": null,
            "_model_module": "@jupyter-widgets/base",
            "top": null,
            "grid_column": null,
            "overflow_y": null,
            "overflow_x": null,
            "grid_auto_flow": null,
            "grid_area": null,
            "grid_template_columns": null,
            "flex": null,
            "_model_name": "LayoutModel",
            "justify_items": null,
            "grid_row": null,
            "max_height": null,
            "align_content": null,
            "visibility": null,
            "align_self": null,
            "height": null,
            "min_height": null,
            "padding": null,
            "grid_auto_rows": null,
            "grid_gap": null,
            "max_width": null,
            "order": null,
            "_view_module_version": "1.2.0",
            "grid_template_areas": null,
            "object_position": null,
            "object_fit": null,
            "grid_auto_columns": null,
            "margin": null,
            "display": null,
            "left": null
          }
        },
        "beb1b5df5ef24c52891048f0ce3f7416": {
          "model_module": "@jupyter-widgets/controls",
          "model_name": "FloatProgressModel",
          "state": {
            "_view_name": "ProgressView",
            "style": "IPY_MODEL_baea0f62d0744229a5abc0ae762bb2d0",
            "_dom_classes": [],
            "description": "Downloading: 100%",
            "_model_name": "FloatProgressModel",
            "bar_style": "success",
            "max": 898823,
            "_view_module": "@jupyter-widgets/controls",
            "_model_module_version": "1.5.0",
            "value": 898823,
            "_view_count": null,
            "_view_module_version": "1.5.0",
            "orientation": "horizontal",
            "min": 0,
            "description_tooltip": null,
            "_model_module": "@jupyter-widgets/controls",
            "layout": "IPY_MODEL_1239c35be2f4437fb1f41a28de4fc0d2"
          }
        },
        "b205aaf40e3a41fe87167bf3d3e28e5d": {
          "model_module": "@jupyter-widgets/controls",
          "model_name": "HTMLModel",
          "state": {
            "_view_name": "HTMLView",
            "style": "IPY_MODEL_958717542f754ea9804411aa9ddbd5bb",
            "_dom_classes": [],
            "description": "",
            "_model_name": "HTMLModel",
            "placeholder": "​",
            "_view_module": "@jupyter-widgets/controls",
            "_model_module_version": "1.5.0",
            "value": " 899k/899k [00:00&lt;00:00, 2.74MB/s]",
            "_view_count": null,
            "_view_module_version": "1.5.0",
            "description_tooltip": null,
            "_model_module": "@jupyter-widgets/controls",
            "layout": "IPY_MODEL_44509770181f4c00800914aac708978c"
          }
        },
        "baea0f62d0744229a5abc0ae762bb2d0": {
          "model_module": "@jupyter-widgets/controls",
          "model_name": "ProgressStyleModel",
          "state": {
            "_view_name": "StyleView",
            "_model_name": "ProgressStyleModel",
            "description_width": "initial",
            "_view_module": "@jupyter-widgets/base",
            "_model_module_version": "1.5.0",
            "_view_count": null,
            "_view_module_version": "1.2.0",
            "bar_color": null,
            "_model_module": "@jupyter-widgets/controls"
          }
        },
        "1239c35be2f4437fb1f41a28de4fc0d2": {
          "model_module": "@jupyter-widgets/base",
          "model_name": "LayoutModel",
          "state": {
            "_view_name": "LayoutView",
            "grid_template_rows": null,
            "right": null,
            "justify_content": null,
            "_view_module": "@jupyter-widgets/base",
            "overflow": null,
            "_model_module_version": "1.2.0",
            "_view_count": null,
            "flex_flow": null,
            "width": null,
            "min_width": null,
            "border": null,
            "align_items": null,
            "bottom": null,
            "_model_module": "@jupyter-widgets/base",
            "top": null,
            "grid_column": null,
            "overflow_y": null,
            "overflow_x": null,
            "grid_auto_flow": null,
            "grid_area": null,
            "grid_template_columns": null,
            "flex": null,
            "_model_name": "LayoutModel",
            "justify_items": null,
            "grid_row": null,
            "max_height": null,
            "align_content": null,
            "visibility": null,
            "align_self": null,
            "height": null,
            "min_height": null,
            "padding": null,
            "grid_auto_rows": null,
            "grid_gap": null,
            "max_width": null,
            "order": null,
            "_view_module_version": "1.2.0",
            "grid_template_areas": null,
            "object_position": null,
            "object_fit": null,
            "grid_auto_columns": null,
            "margin": null,
            "display": null,
            "left": null
          }
        },
        "958717542f754ea9804411aa9ddbd5bb": {
          "model_module": "@jupyter-widgets/controls",
          "model_name": "DescriptionStyleModel",
          "state": {
            "_view_name": "StyleView",
            "_model_name": "DescriptionStyleModel",
            "description_width": "",
            "_view_module": "@jupyter-widgets/base",
            "_model_module_version": "1.5.0",
            "_view_count": null,
            "_view_module_version": "1.2.0",
            "_model_module": "@jupyter-widgets/controls"
          }
        },
        "44509770181f4c00800914aac708978c": {
          "model_module": "@jupyter-widgets/base",
          "model_name": "LayoutModel",
          "state": {
            "_view_name": "LayoutView",
            "grid_template_rows": null,
            "right": null,
            "justify_content": null,
            "_view_module": "@jupyter-widgets/base",
            "overflow": null,
            "_model_module_version": "1.2.0",
            "_view_count": null,
            "flex_flow": null,
            "width": null,
            "min_width": null,
            "border": null,
            "align_items": null,
            "bottom": null,
            "_model_module": "@jupyter-widgets/base",
            "top": null,
            "grid_column": null,
            "overflow_y": null,
            "overflow_x": null,
            "grid_auto_flow": null,
            "grid_area": null,
            "grid_template_columns": null,
            "flex": null,
            "_model_name": "LayoutModel",
            "justify_items": null,
            "grid_row": null,
            "max_height": null,
            "align_content": null,
            "visibility": null,
            "align_self": null,
            "height": null,
            "min_height": null,
            "padding": null,
            "grid_auto_rows": null,
            "grid_gap": null,
            "max_width": null,
            "order": null,
            "_view_module_version": "1.2.0",
            "grid_template_areas": null,
            "object_position": null,
            "object_fit": null,
            "grid_auto_columns": null,
            "margin": null,
            "display": null,
            "left": null
          }
        },
        "f8c8441b8e1e4e1980f2a9f696f0e099": {
          "model_module": "@jupyter-widgets/controls",
          "model_name": "HBoxModel",
          "state": {
            "_view_name": "HBoxView",
            "_dom_classes": [],
            "_model_name": "HBoxModel",
            "_view_module": "@jupyter-widgets/controls",
            "_model_module_version": "1.5.0",
            "_view_count": null,
            "_view_module_version": "1.5.0",
            "box_style": "",
            "layout": "IPY_MODEL_fa867ccab9ee4d56ab3722df590db316",
            "_model_module": "@jupyter-widgets/controls",
            "children": [
              "IPY_MODEL_46cf332cb5474c4a9e9ca14a047c8e4e",
              "IPY_MODEL_89a73376ccb84bc09f9989f21bba9dd4"
            ]
          }
        },
        "fa867ccab9ee4d56ab3722df590db316": {
          "model_module": "@jupyter-widgets/base",
          "model_name": "LayoutModel",
          "state": {
            "_view_name": "LayoutView",
            "grid_template_rows": null,
            "right": null,
            "justify_content": null,
            "_view_module": "@jupyter-widgets/base",
            "overflow": null,
            "_model_module_version": "1.2.0",
            "_view_count": null,
            "flex_flow": null,
            "width": null,
            "min_width": null,
            "border": null,
            "align_items": null,
            "bottom": null,
            "_model_module": "@jupyter-widgets/base",
            "top": null,
            "grid_column": null,
            "overflow_y": null,
            "overflow_x": null,
            "grid_auto_flow": null,
            "grid_area": null,
            "grid_template_columns": null,
            "flex": null,
            "_model_name": "LayoutModel",
            "justify_items": null,
            "grid_row": null,
            "max_height": null,
            "align_content": null,
            "visibility": null,
            "align_self": null,
            "height": null,
            "min_height": null,
            "padding": null,
            "grid_auto_rows": null,
            "grid_gap": null,
            "max_width": null,
            "order": null,
            "_view_module_version": "1.2.0",
            "grid_template_areas": null,
            "object_position": null,
            "object_fit": null,
            "grid_auto_columns": null,
            "margin": null,
            "display": null,
            "left": null
          }
        },
        "46cf332cb5474c4a9e9ca14a047c8e4e": {
          "model_module": "@jupyter-widgets/controls",
          "model_name": "FloatProgressModel",
          "state": {
            "_view_name": "ProgressView",
            "style": "IPY_MODEL_f924ec240cb3427fbb545cb31b620f9e",
            "_dom_classes": [],
            "description": "Downloading: 100%",
            "_model_name": "FloatProgressModel",
            "bar_style": "success",
            "max": 456318,
            "_view_module": "@jupyter-widgets/controls",
            "_model_module_version": "1.5.0",
            "value": 456318,
            "_view_count": null,
            "_view_module_version": "1.5.0",
            "orientation": "horizontal",
            "min": 0,
            "description_tooltip": null,
            "_model_module": "@jupyter-widgets/controls",
            "layout": "IPY_MODEL_f0d1fa19a95346da902dce13e091fc5d"
          }
        },
        "89a73376ccb84bc09f9989f21bba9dd4": {
          "model_module": "@jupyter-widgets/controls",
          "model_name": "HTMLModel",
          "state": {
            "_view_name": "HTMLView",
            "style": "IPY_MODEL_5101c5a4c4164ba7a1f576b1d218fbde",
            "_dom_classes": [],
            "description": "",
            "_model_name": "HTMLModel",
            "placeholder": "​",
            "_view_module": "@jupyter-widgets/controls",
            "_model_module_version": "1.5.0",
            "value": " 456k/456k [00:00&lt;00:00, 3.33MB/s]",
            "_view_count": null,
            "_view_module_version": "1.5.0",
            "description_tooltip": null,
            "_model_module": "@jupyter-widgets/controls",
            "layout": "IPY_MODEL_4dc25d8faa4a487199cb11d8e3fff706"
          }
        },
        "f924ec240cb3427fbb545cb31b620f9e": {
          "model_module": "@jupyter-widgets/controls",
          "model_name": "ProgressStyleModel",
          "state": {
            "_view_name": "StyleView",
            "_model_name": "ProgressStyleModel",
            "description_width": "initial",
            "_view_module": "@jupyter-widgets/base",
            "_model_module_version": "1.5.0",
            "_view_count": null,
            "_view_module_version": "1.2.0",
            "bar_color": null,
            "_model_module": "@jupyter-widgets/controls"
          }
        },
        "f0d1fa19a95346da902dce13e091fc5d": {
          "model_module": "@jupyter-widgets/base",
          "model_name": "LayoutModel",
          "state": {
            "_view_name": "LayoutView",
            "grid_template_rows": null,
            "right": null,
            "justify_content": null,
            "_view_module": "@jupyter-widgets/base",
            "overflow": null,
            "_model_module_version": "1.2.0",
            "_view_count": null,
            "flex_flow": null,
            "width": null,
            "min_width": null,
            "border": null,
            "align_items": null,
            "bottom": null,
            "_model_module": "@jupyter-widgets/base",
            "top": null,
            "grid_column": null,
            "overflow_y": null,
            "overflow_x": null,
            "grid_auto_flow": null,
            "grid_area": null,
            "grid_template_columns": null,
            "flex": null,
            "_model_name": "LayoutModel",
            "justify_items": null,
            "grid_row": null,
            "max_height": null,
            "align_content": null,
            "visibility": null,
            "align_self": null,
            "height": null,
            "min_height": null,
            "padding": null,
            "grid_auto_rows": null,
            "grid_gap": null,
            "max_width": null,
            "order": null,
            "_view_module_version": "1.2.0",
            "grid_template_areas": null,
            "object_position": null,
            "object_fit": null,
            "grid_auto_columns": null,
            "margin": null,
            "display": null,
            "left": null
          }
        },
        "5101c5a4c4164ba7a1f576b1d218fbde": {
          "model_module": "@jupyter-widgets/controls",
          "model_name": "DescriptionStyleModel",
          "state": {
            "_view_name": "StyleView",
            "_model_name": "DescriptionStyleModel",
            "description_width": "",
            "_view_module": "@jupyter-widgets/base",
            "_model_module_version": "1.5.0",
            "_view_count": null,
            "_view_module_version": "1.2.0",
            "_model_module": "@jupyter-widgets/controls"
          }
        },
        "4dc25d8faa4a487199cb11d8e3fff706": {
          "model_module": "@jupyter-widgets/base",
          "model_name": "LayoutModel",
          "state": {
            "_view_name": "LayoutView",
            "grid_template_rows": null,
            "right": null,
            "justify_content": null,
            "_view_module": "@jupyter-widgets/base",
            "overflow": null,
            "_model_module_version": "1.2.0",
            "_view_count": null,
            "flex_flow": null,
            "width": null,
            "min_width": null,
            "border": null,
            "align_items": null,
            "bottom": null,
            "_model_module": "@jupyter-widgets/base",
            "top": null,
            "grid_column": null,
            "overflow_y": null,
            "overflow_x": null,
            "grid_auto_flow": null,
            "grid_area": null,
            "grid_template_columns": null,
            "flex": null,
            "_model_name": "LayoutModel",
            "justify_items": null,
            "grid_row": null,
            "max_height": null,
            "align_content": null,
            "visibility": null,
            "align_self": null,
            "height": null,
            "min_height": null,
            "padding": null,
            "grid_auto_rows": null,
            "grid_gap": null,
            "max_width": null,
            "order": null,
            "_view_module_version": "1.2.0",
            "grid_template_areas": null,
            "object_position": null,
            "object_fit": null,
            "grid_auto_columns": null,
            "margin": null,
            "display": null,
            "left": null
          }
        },
        "dd7f49a985b842ad9e6f4a93b14cd845": {
          "model_module": "@jupyter-widgets/controls",
          "model_name": "HBoxModel",
          "state": {
            "_view_name": "HBoxView",
            "_dom_classes": [],
            "_model_name": "HBoxModel",
            "_view_module": "@jupyter-widgets/controls",
            "_model_module_version": "1.5.0",
            "_view_count": null,
            "_view_module_version": "1.5.0",
            "box_style": "",
            "layout": "IPY_MODEL_84ff886de9304274bad1d8fb5eb3e026",
            "_model_module": "@jupyter-widgets/controls",
            "children": [
              "IPY_MODEL_147f904378a7483c81fd85eda82faba4",
              "IPY_MODEL_2d34095dc21a4277a3a40b02102b4791"
            ]
          }
        },
        "84ff886de9304274bad1d8fb5eb3e026": {
          "model_module": "@jupyter-widgets/base",
          "model_name": "LayoutModel",
          "state": {
            "_view_name": "LayoutView",
            "grid_template_rows": null,
            "right": null,
            "justify_content": null,
            "_view_module": "@jupyter-widgets/base",
            "overflow": null,
            "_model_module_version": "1.2.0",
            "_view_count": null,
            "flex_flow": null,
            "width": null,
            "min_width": null,
            "border": null,
            "align_items": null,
            "bottom": null,
            "_model_module": "@jupyter-widgets/base",
            "top": null,
            "grid_column": null,
            "overflow_y": null,
            "overflow_x": null,
            "grid_auto_flow": null,
            "grid_area": null,
            "grid_template_columns": null,
            "flex": null,
            "_model_name": "LayoutModel",
            "justify_items": null,
            "grid_row": null,
            "max_height": null,
            "align_content": null,
            "visibility": null,
            "align_self": null,
            "height": null,
            "min_height": null,
            "padding": null,
            "grid_auto_rows": null,
            "grid_gap": null,
            "max_width": null,
            "order": null,
            "_view_module_version": "1.2.0",
            "grid_template_areas": null,
            "object_position": null,
            "object_fit": null,
            "grid_auto_columns": null,
            "margin": null,
            "display": null,
            "left": null
          }
        },
        "147f904378a7483c81fd85eda82faba4": {
          "model_module": "@jupyter-widgets/controls",
          "model_name": "FloatProgressModel",
          "state": {
            "_view_name": "ProgressView",
            "style": "IPY_MODEL_129f2e032b8245bfb77b03c82b2a43b8",
            "_dom_classes": [],
            "description": "Downloading: 100%",
            "_model_name": "FloatProgressModel",
            "bar_style": "success",
            "max": 1355863,
            "_view_module": "@jupyter-widgets/controls",
            "_model_module_version": "1.5.0",
            "value": 1355863,
            "_view_count": null,
            "_view_module_version": "1.5.0",
            "orientation": "horizontal",
            "min": 0,
            "description_tooltip": null,
            "_model_module": "@jupyter-widgets/controls",
            "layout": "IPY_MODEL_6816c6f68568452fb5f4b122cf7da74c"
          }
        },
        "2d34095dc21a4277a3a40b02102b4791": {
          "model_module": "@jupyter-widgets/controls",
          "model_name": "HTMLModel",
          "state": {
            "_view_name": "HTMLView",
            "style": "IPY_MODEL_ff1bbb16fe8f4cb7876d8091fb9e6466",
            "_dom_classes": [],
            "description": "",
            "_model_name": "HTMLModel",
            "placeholder": "​",
            "_view_module": "@jupyter-widgets/controls",
            "_model_module_version": "1.5.0",
            "value": " 1.36M/1.36M [00:02&lt;00:00, 523kB/s]",
            "_view_count": null,
            "_view_module_version": "1.5.0",
            "description_tooltip": null,
            "_model_module": "@jupyter-widgets/controls",
            "layout": "IPY_MODEL_3ce8ff62d7eb4fa5b8ef68b446762b48"
          }
        },
        "129f2e032b8245bfb77b03c82b2a43b8": {
          "model_module": "@jupyter-widgets/controls",
          "model_name": "ProgressStyleModel",
          "state": {
            "_view_name": "StyleView",
            "_model_name": "ProgressStyleModel",
            "description_width": "initial",
            "_view_module": "@jupyter-widgets/base",
            "_model_module_version": "1.5.0",
            "_view_count": null,
            "_view_module_version": "1.2.0",
            "bar_color": null,
            "_model_module": "@jupyter-widgets/controls"
          }
        },
        "6816c6f68568452fb5f4b122cf7da74c": {
          "model_module": "@jupyter-widgets/base",
          "model_name": "LayoutModel",
          "state": {
            "_view_name": "LayoutView",
            "grid_template_rows": null,
            "right": null,
            "justify_content": null,
            "_view_module": "@jupyter-widgets/base",
            "overflow": null,
            "_model_module_version": "1.2.0",
            "_view_count": null,
            "flex_flow": null,
            "width": null,
            "min_width": null,
            "border": null,
            "align_items": null,
            "bottom": null,
            "_model_module": "@jupyter-widgets/base",
            "top": null,
            "grid_column": null,
            "overflow_y": null,
            "overflow_x": null,
            "grid_auto_flow": null,
            "grid_area": null,
            "grid_template_columns": null,
            "flex": null,
            "_model_name": "LayoutModel",
            "justify_items": null,
            "grid_row": null,
            "max_height": null,
            "align_content": null,
            "visibility": null,
            "align_self": null,
            "height": null,
            "min_height": null,
            "padding": null,
            "grid_auto_rows": null,
            "grid_gap": null,
            "max_width": null,
            "order": null,
            "_view_module_version": "1.2.0",
            "grid_template_areas": null,
            "object_position": null,
            "object_fit": null,
            "grid_auto_columns": null,
            "margin": null,
            "display": null,
            "left": null
          }
        },
        "ff1bbb16fe8f4cb7876d8091fb9e6466": {
          "model_module": "@jupyter-widgets/controls",
          "model_name": "DescriptionStyleModel",
          "state": {
            "_view_name": "StyleView",
            "_model_name": "DescriptionStyleModel",
            "description_width": "",
            "_view_module": "@jupyter-widgets/base",
            "_model_module_version": "1.5.0",
            "_view_count": null,
            "_view_module_version": "1.2.0",
            "_model_module": "@jupyter-widgets/controls"
          }
        },
        "3ce8ff62d7eb4fa5b8ef68b446762b48": {
          "model_module": "@jupyter-widgets/base",
          "model_name": "LayoutModel",
          "state": {
            "_view_name": "LayoutView",
            "grid_template_rows": null,
            "right": null,
            "justify_content": null,
            "_view_module": "@jupyter-widgets/base",
            "overflow": null,
            "_model_module_version": "1.2.0",
            "_view_count": null,
            "flex_flow": null,
            "width": null,
            "min_width": null,
            "border": null,
            "align_items": null,
            "bottom": null,
            "_model_module": "@jupyter-widgets/base",
            "top": null,
            "grid_column": null,
            "overflow_y": null,
            "overflow_x": null,
            "grid_auto_flow": null,
            "grid_area": null,
            "grid_template_columns": null,
            "flex": null,
            "_model_name": "LayoutModel",
            "justify_items": null,
            "grid_row": null,
            "max_height": null,
            "align_content": null,
            "visibility": null,
            "align_self": null,
            "height": null,
            "min_height": null,
            "padding": null,
            "grid_auto_rows": null,
            "grid_gap": null,
            "max_width": null,
            "order": null,
            "_view_module_version": "1.2.0",
            "grid_template_areas": null,
            "object_position": null,
            "object_fit": null,
            "grid_auto_columns": null,
            "margin": null,
            "display": null,
            "left": null
          }
        }
      }
    }
  },
  "cells": [
    {
      "cell_type": "markdown",
      "metadata": {
        "id": "view-in-github",
        "colab_type": "text"
      },
      "source": [
        "<a href=\"https://colab.research.google.com/github/ericchchiu/testing/blob/master/20210530RoBERTaLM.ipynb\" target=\"_parent\"><img src=\"https://colab.research.google.com/assets/colab-badge.svg\" alt=\"Open In Colab\"/></a>"
      ]
    },
    {
      "cell_type": "code",
      "metadata": {
        "id": "dFwWtBcWnvda"
      },
      "source": [
        "# from https://towardsdatascience.com/transformers-retraining-roberta-base-using-the-roberta-mlm-procedure-7422160d5764\n",
        "# 2020121 Tanmay Garg\n",
        "# need to tidy up the code. The pretrained file roberta-retrained is no longer there "
      ],
      "execution_count": null,
      "outputs": []
    },
    {
      "cell_type": "code",
      "metadata": {
        "colab": {
          "base_uri": "https://localhost:8080/"
        },
        "id": "qAJ1jUcro5sF",
        "outputId": "88518e81-4d19-4214-d83b-dd2afea80cde"
      },
      "source": [
        "!pip install transformers "
      ],
      "execution_count": null,
      "outputs": [
        {
          "output_type": "stream",
          "text": [
            "Collecting transformers\n",
            "\u001b[?25l  Downloading https://files.pythonhosted.org/packages/d5/43/cfe4ee779bbd6a678ac6a97c5a5cdeb03c35f9eaebbb9720b036680f9a2d/transformers-4.6.1-py3-none-any.whl (2.2MB)\n",
            "\r\u001b[K     |▏                               | 10kB 17.0MB/s eta 0:00:01\r\u001b[K     |▎                               | 20kB 24.4MB/s eta 0:00:01\r\u001b[K     |▍                               | 30kB 29.6MB/s eta 0:00:01\r\u001b[K     |▋                               | 40kB 30.3MB/s eta 0:00:01\r\u001b[K     |▊                               | 51kB 31.5MB/s eta 0:00:01\r\u001b[K     |▉                               | 61kB 33.9MB/s eta 0:00:01\r\u001b[K     |█                               | 71kB 28.2MB/s eta 0:00:01\r\u001b[K     |█▏                              | 81kB 29.5MB/s eta 0:00:01\r\u001b[K     |█▎                              | 92kB 31.2MB/s eta 0:00:01\r\u001b[K     |█▌                              | 102kB 30.8MB/s eta 0:00:01\r\u001b[K     |█▋                              | 112kB 30.8MB/s eta 0:00:01\r\u001b[K     |█▊                              | 122kB 30.8MB/s eta 0:00:01\r\u001b[K     |██                              | 133kB 30.8MB/s eta 0:00:01\r\u001b[K     |██                              | 143kB 30.8MB/s eta 0:00:01\r\u001b[K     |██▏                             | 153kB 30.8MB/s eta 0:00:01\r\u001b[K     |██▎                             | 163kB 30.8MB/s eta 0:00:01\r\u001b[K     |██▌                             | 174kB 30.8MB/s eta 0:00:01\r\u001b[K     |██▋                             | 184kB 30.8MB/s eta 0:00:01\r\u001b[K     |██▊                             | 194kB 30.8MB/s eta 0:00:01\r\u001b[K     |███                             | 204kB 30.8MB/s eta 0:00:01\r\u001b[K     |███                             | 215kB 30.8MB/s eta 0:00:01\r\u001b[K     |███▏                            | 225kB 30.8MB/s eta 0:00:01\r\u001b[K     |███▍                            | 235kB 30.8MB/s eta 0:00:01\r\u001b[K     |███▌                            | 245kB 30.8MB/s eta 0:00:01\r\u001b[K     |███▋                            | 256kB 30.8MB/s eta 0:00:01\r\u001b[K     |███▉                            | 266kB 30.8MB/s eta 0:00:01\r\u001b[K     |████                            | 276kB 30.8MB/s eta 0:00:01\r\u001b[K     |████                            | 286kB 30.8MB/s eta 0:00:01\r\u001b[K     |████▎                           | 296kB 30.8MB/s eta 0:00:01\r\u001b[K     |████▍                           | 307kB 30.8MB/s eta 0:00:01\r\u001b[K     |████▌                           | 317kB 30.8MB/s eta 0:00:01\r\u001b[K     |████▋                           | 327kB 30.8MB/s eta 0:00:01\r\u001b[K     |████▉                           | 337kB 30.8MB/s eta 0:00:01\r\u001b[K     |█████                           | 348kB 30.8MB/s eta 0:00:01\r\u001b[K     |█████                           | 358kB 30.8MB/s eta 0:00:01\r\u001b[K     |█████▎                          | 368kB 30.8MB/s eta 0:00:01\r\u001b[K     |█████▍                          | 378kB 30.8MB/s eta 0:00:01\r\u001b[K     |█████▌                          | 389kB 30.8MB/s eta 0:00:01\r\u001b[K     |█████▊                          | 399kB 30.8MB/s eta 0:00:01\r\u001b[K     |█████▉                          | 409kB 30.8MB/s eta 0:00:01\r\u001b[K     |██████                          | 419kB 30.8MB/s eta 0:00:01\r\u001b[K     |██████▏                         | 430kB 30.8MB/s eta 0:00:01\r\u001b[K     |██████▎                         | 440kB 30.8MB/s eta 0:00:01\r\u001b[K     |██████▍                         | 450kB 30.8MB/s eta 0:00:01\r\u001b[K     |██████▌                         | 460kB 30.8MB/s eta 0:00:01\r\u001b[K     |██████▊                         | 471kB 30.8MB/s eta 0:00:01\r\u001b[K     |██████▉                         | 481kB 30.8MB/s eta 0:00:01\r\u001b[K     |███████                         | 491kB 30.8MB/s eta 0:00:01\r\u001b[K     |███████▏                        | 501kB 30.8MB/s eta 0:00:01\r\u001b[K     |███████▎                        | 512kB 30.8MB/s eta 0:00:01\r\u001b[K     |███████▍                        | 522kB 30.8MB/s eta 0:00:01\r\u001b[K     |███████▋                        | 532kB 30.8MB/s eta 0:00:01\r\u001b[K     |███████▊                        | 542kB 30.8MB/s eta 0:00:01\r\u001b[K     |███████▉                        | 552kB 30.8MB/s eta 0:00:01\r\u001b[K     |████████                        | 563kB 30.8MB/s eta 0:00:01\r\u001b[K     |████████▏                       | 573kB 30.8MB/s eta 0:00:01\r\u001b[K     |████████▎                       | 583kB 30.8MB/s eta 0:00:01\r\u001b[K     |████████▌                       | 593kB 30.8MB/s eta 0:00:01\r\u001b[K     |████████▋                       | 604kB 30.8MB/s eta 0:00:01\r\u001b[K     |████████▊                       | 614kB 30.8MB/s eta 0:00:01\r\u001b[K     |████████▉                       | 624kB 30.8MB/s eta 0:00:01\r\u001b[K     |█████████                       | 634kB 30.8MB/s eta 0:00:01\r\u001b[K     |█████████▏                      | 645kB 30.8MB/s eta 0:00:01\r\u001b[K     |█████████▎                      | 655kB 30.8MB/s eta 0:00:01\r\u001b[K     |█████████▌                      | 665kB 30.8MB/s eta 0:00:01\r\u001b[K     |█████████▋                      | 675kB 30.8MB/s eta 0:00:01\r\u001b[K     |█████████▊                      | 686kB 30.8MB/s eta 0:00:01\r\u001b[K     |██████████                      | 696kB 30.8MB/s eta 0:00:01\r\u001b[K     |██████████                      | 706kB 30.8MB/s eta 0:00:01\r\u001b[K     |██████████▏                     | 716kB 30.8MB/s eta 0:00:01\r\u001b[K     |██████████▍                     | 727kB 30.8MB/s eta 0:00:01\r\u001b[K     |██████████▌                     | 737kB 30.8MB/s eta 0:00:01\r\u001b[K     |██████████▋                     | 747kB 30.8MB/s eta 0:00:01\r\u001b[K     |██████████▉                     | 757kB 30.8MB/s eta 0:00:01\r\u001b[K     |███████████                     | 768kB 30.8MB/s eta 0:00:01\r\u001b[K     |███████████                     | 778kB 30.8MB/s eta 0:00:01\r\u001b[K     |███████████▏                    | 788kB 30.8MB/s eta 0:00:01\r\u001b[K     |███████████▍                    | 798kB 30.8MB/s eta 0:00:01\r\u001b[K     |███████████▌                    | 808kB 30.8MB/s eta 0:00:01\r\u001b[K     |███████████▋                    | 819kB 30.8MB/s eta 0:00:01\r\u001b[K     |███████████▉                    | 829kB 30.8MB/s eta 0:00:01\r\u001b[K     |████████████                    | 839kB 30.8MB/s eta 0:00:01\r\u001b[K     |████████████                    | 849kB 30.8MB/s eta 0:00:01\r\u001b[K     |████████████▎                   | 860kB 30.8MB/s eta 0:00:01\r\u001b[K     |████████████▍                   | 870kB 30.8MB/s eta 0:00:01\r\u001b[K     |████████████▌                   | 880kB 30.8MB/s eta 0:00:01\r\u001b[K     |████████████▊                   | 890kB 30.8MB/s eta 0:00:01\r\u001b[K     |████████████▉                   | 901kB 30.8MB/s eta 0:00:01\r\u001b[K     |█████████████                   | 911kB 30.8MB/s eta 0:00:01\r\u001b[K     |█████████████                   | 921kB 30.8MB/s eta 0:00:01\r\u001b[K     |█████████████▎                  | 931kB 30.8MB/s eta 0:00:01\r\u001b[K     |█████████████▍                  | 942kB 30.8MB/s eta 0:00:01\r\u001b[K     |█████████████▌                  | 952kB 30.8MB/s eta 0:00:01\r\u001b[K     |█████████████▊                  | 962kB 30.8MB/s eta 0:00:01\r\u001b[K     |█████████████▉                  | 972kB 30.8MB/s eta 0:00:01\r\u001b[K     |██████████████                  | 983kB 30.8MB/s eta 0:00:01\r\u001b[K     |██████████████▏                 | 993kB 30.8MB/s eta 0:00:01\r\u001b[K     |██████████████▎                 | 1.0MB 30.8MB/s eta 0:00:01\r\u001b[K     |██████████████▍                 | 1.0MB 30.8MB/s eta 0:00:01\r\u001b[K     |██████████████▋                 | 1.0MB 30.8MB/s eta 0:00:01\r\u001b[K     |██████████████▊                 | 1.0MB 30.8MB/s eta 0:00:01\r\u001b[K     |██████████████▉                 | 1.0MB 30.8MB/s eta 0:00:01\r\u001b[K     |███████████████                 | 1.1MB 30.8MB/s eta 0:00:01\r\u001b[K     |███████████████▏                | 1.1MB 30.8MB/s eta 0:00:01\r\u001b[K     |███████████████▎                | 1.1MB 30.8MB/s eta 0:00:01\r\u001b[K     |███████████████▍                | 1.1MB 30.8MB/s eta 0:00:01\r\u001b[K     |███████████████▋                | 1.1MB 30.8MB/s eta 0:00:01\r\u001b[K     |███████████████▊                | 1.1MB 30.8MB/s eta 0:00:01\r\u001b[K     |███████████████▉                | 1.1MB 30.8MB/s eta 0:00:01\r\u001b[K     |████████████████                | 1.1MB 30.8MB/s eta 0:00:01\r\u001b[K     |████████████████▏               | 1.1MB 30.8MB/s eta 0:00:01\r\u001b[K     |████████████████▎               | 1.1MB 30.8MB/s eta 0:00:01\r\u001b[K     |████████████████▌               | 1.2MB 30.8MB/s eta 0:00:01\r\u001b[K     |████████████████▋               | 1.2MB 30.8MB/s eta 0:00:01\r\u001b[K     |████████████████▊               | 1.2MB 30.8MB/s eta 0:00:01\r\u001b[K     |█████████████████               | 1.2MB 30.8MB/s eta 0:00:01\r\u001b[K     |█████████████████               | 1.2MB 30.8MB/s eta 0:00:01\r\u001b[K     |█████████████████▏              | 1.2MB 30.8MB/s eta 0:00:01\r\u001b[K     |█████████████████▎              | 1.2MB 30.8MB/s eta 0:00:01\r\u001b[K     |█████████████████▌              | 1.2MB 30.8MB/s eta 0:00:01\r\u001b[K     |█████████████████▋              | 1.2MB 30.8MB/s eta 0:00:01\r\u001b[K     |█████████████████▊              | 1.2MB 30.8MB/s eta 0:00:01\r\u001b[K     |██████████████████              | 1.3MB 30.8MB/s eta 0:00:01\r\u001b[K     |██████████████████              | 1.3MB 30.8MB/s eta 0:00:01\r\u001b[K     |██████████████████▏             | 1.3MB 30.8MB/s eta 0:00:01\r\u001b[K     |██████████████████▍             | 1.3MB 30.8MB/s eta 0:00:01\r\u001b[K     |██████████████████▌             | 1.3MB 30.8MB/s eta 0:00:01\r\u001b[K     |██████████████████▋             | 1.3MB 30.8MB/s eta 0:00:01\r\u001b[K     |██████████████████▉             | 1.3MB 30.8MB/s eta 0:00:01\r\u001b[K     |███████████████████             | 1.3MB 30.8MB/s eta 0:00:01\r\u001b[K     |███████████████████             | 1.3MB 30.8MB/s eta 0:00:01\r\u001b[K     |███████████████████▎            | 1.4MB 30.8MB/s eta 0:00:01\r\u001b[K     |███████████████████▍            | 1.4MB 30.8MB/s eta 0:00:01\r\u001b[K     |███████████████████▌            | 1.4MB 30.8MB/s eta 0:00:01\r\u001b[K     |███████████████████▋            | 1.4MB 30.8MB/s eta 0:00:01\r\u001b[K     |███████████████████▉            | 1.4MB 30.8MB/s eta 0:00:01\r\u001b[K     |████████████████████            | 1.4MB 30.8MB/s eta 0:00:01\r\u001b[K     |████████████████████            | 1.4MB 30.8MB/s eta 0:00:01\r\u001b[K     |████████████████████▎           | 1.4MB 30.8MB/s eta 0:00:01\r\u001b[K     |████████████████████▍           | 1.4MB 30.8MB/s eta 0:00:01\r\u001b[K     |████████████████████▌           | 1.4MB 30.8MB/s eta 0:00:01\r\u001b[K     |████████████████████▊           | 1.5MB 30.8MB/s eta 0:00:01\r\u001b[K     |████████████████████▉           | 1.5MB 30.8MB/s eta 0:00:01\r\u001b[K     |█████████████████████           | 1.5MB 30.8MB/s eta 0:00:01\r\u001b[K     |█████████████████████▏          | 1.5MB 30.8MB/s eta 0:00:01\r\u001b[K     |█████████████████████▎          | 1.5MB 30.8MB/s eta 0:00:01\r\u001b[K     |█████████████████████▍          | 1.5MB 30.8MB/s eta 0:00:01\r\u001b[K     |█████████████████████▋          | 1.5MB 30.8MB/s eta 0:00:01\r\u001b[K     |█████████████████████▊          | 1.5MB 30.8MB/s eta 0:00:01\r\u001b[K     |█████████████████████▉          | 1.5MB 30.8MB/s eta 0:00:01\r\u001b[K     |██████████████████████          | 1.5MB 30.8MB/s eta 0:00:01\r\u001b[K     |██████████████████████▏         | 1.6MB 30.8MB/s eta 0:00:01\r\u001b[K     |██████████████████████▎         | 1.6MB 30.8MB/s eta 0:00:01\r\u001b[K     |██████████████████████▍         | 1.6MB 30.8MB/s eta 0:00:01\r\u001b[K     |██████████████████████▋         | 1.6MB 30.8MB/s eta 0:00:01\r\u001b[K     |██████████████████████▊         | 1.6MB 30.8MB/s eta 0:00:01\r\u001b[K     |██████████████████████▉         | 1.6MB 30.8MB/s eta 0:00:01\r\u001b[K     |███████████████████████         | 1.6MB 30.8MB/s eta 0:00:01\r\u001b[K     |███████████████████████▏        | 1.6MB 30.8MB/s eta 0:00:01\r\u001b[K     |███████████████████████▎        | 1.6MB 30.8MB/s eta 0:00:01\r\u001b[K     |███████████████████████▌        | 1.6MB 30.8MB/s eta 0:00:01\r\u001b[K     |███████████████████████▋        | 1.7MB 30.8MB/s eta 0:00:01\r\u001b[K     |███████████████████████▊        | 1.7MB 30.8MB/s eta 0:00:01\r\u001b[K     |███████████████████████▉        | 1.7MB 30.8MB/s eta 0:00:01\r\u001b[K     |████████████████████████        | 1.7MB 30.8MB/s eta 0:00:01\r\u001b[K     |████████████████████████▏       | 1.7MB 30.8MB/s eta 0:00:01\r\u001b[K     |████████████████████████▎       | 1.7MB 30.8MB/s eta 0:00:01\r\u001b[K     |████████████████████████▌       | 1.7MB 30.8MB/s eta 0:00:01\r\u001b[K     |████████████████████████▋       | 1.7MB 30.8MB/s eta 0:00:01\r\u001b[K     |████████████████████████▊       | 1.7MB 30.8MB/s eta 0:00:01\r\u001b[K     |█████████████████████████       | 1.8MB 30.8MB/s eta 0:00:01\r\u001b[K     |█████████████████████████       | 1.8MB 30.8MB/s eta 0:00:01\r\u001b[K     |█████████████████████████▏      | 1.8MB 30.8MB/s eta 0:00:01\r\u001b[K     |█████████████████████████▍      | 1.8MB 30.8MB/s eta 0:00:01\r\u001b[K     |█████████████████████████▌      | 1.8MB 30.8MB/s eta 0:00:01\r\u001b[K     |█████████████████████████▋      | 1.8MB 30.8MB/s eta 0:00:01\r\u001b[K     |█████████████████████████▉      | 1.8MB 30.8MB/s eta 0:00:01\r\u001b[K     |██████████████████████████      | 1.8MB 30.8MB/s eta 0:00:01\r\u001b[K     |██████████████████████████      | 1.8MB 30.8MB/s eta 0:00:01\r\u001b[K     |██████████████████████████▏     | 1.8MB 30.8MB/s eta 0:00:01\r\u001b[K     |██████████████████████████▍     | 1.9MB 30.8MB/s eta 0:00:01\r\u001b[K     |██████████████████████████▌     | 1.9MB 30.8MB/s eta 0:00:01\r\u001b[K     |██████████████████████████▋     | 1.9MB 30.8MB/s eta 0:00:01\r\u001b[K     |██████████████████████████▉     | 1.9MB 30.8MB/s eta 0:00:01\r\u001b[K     |███████████████████████████     | 1.9MB 30.8MB/s eta 0:00:01\r\u001b[K     |███████████████████████████     | 1.9MB 30.8MB/s eta 0:00:01\r\u001b[K     |███████████████████████████▎    | 1.9MB 30.8MB/s eta 0:00:01\r\u001b[K     |███████████████████████████▍    | 1.9MB 30.8MB/s eta 0:00:01\r\u001b[K     |███████████████████████████▌    | 1.9MB 30.8MB/s eta 0:00:01\r\u001b[K     |███████████████████████████▊    | 1.9MB 30.8MB/s eta 0:00:01\r\u001b[K     |███████████████████████████▉    | 2.0MB 30.8MB/s eta 0:00:01\r\u001b[K     |████████████████████████████    | 2.0MB 30.8MB/s eta 0:00:01\r\u001b[K     |████████████████████████████▏   | 2.0MB 30.8MB/s eta 0:00:01\r\u001b[K     |████████████████████████████▎   | 2.0MB 30.8MB/s eta 0:00:01\r\u001b[K     |████████████████████████████▍   | 2.0MB 30.8MB/s eta 0:00:01\r\u001b[K     |████████████████████████████▌   | 2.0MB 30.8MB/s eta 0:00:01\r\u001b[K     |████████████████████████████▊   | 2.0MB 30.8MB/s eta 0:00:01\r\u001b[K     |████████████████████████████▉   | 2.0MB 30.8MB/s eta 0:00:01\r\u001b[K     |█████████████████████████████   | 2.0MB 30.8MB/s eta 0:00:01\r\u001b[K     |█████████████████████████████▏  | 2.0MB 30.8MB/s eta 0:00:01\r\u001b[K     |█████████████████████████████▎  | 2.1MB 30.8MB/s eta 0:00:01\r\u001b[K     |█████████████████████████████▍  | 2.1MB 30.8MB/s eta 0:00:01\r\u001b[K     |█████████████████████████████▋  | 2.1MB 30.8MB/s eta 0:00:01\r\u001b[K     |█████████████████████████████▊  | 2.1MB 30.8MB/s eta 0:00:01\r\u001b[K     |█████████████████████████████▉  | 2.1MB 30.8MB/s eta 0:00:01\r\u001b[K     |██████████████████████████████  | 2.1MB 30.8MB/s eta 0:00:01\r\u001b[K     |██████████████████████████████▏ | 2.1MB 30.8MB/s eta 0:00:01\r\u001b[K     |██████████████████████████████▎ | 2.1MB 30.8MB/s eta 0:00:01\r\u001b[K     |██████████████████████████████▍ | 2.1MB 30.8MB/s eta 0:00:01\r\u001b[K     |██████████████████████████████▋ | 2.2MB 30.8MB/s eta 0:00:01\r\u001b[K     |██████████████████████████████▊ | 2.2MB 30.8MB/s eta 0:00:01\r\u001b[K     |██████████████████████████████▉ | 2.2MB 30.8MB/s eta 0:00:01\r\u001b[K     |███████████████████████████████ | 2.2MB 30.8MB/s eta 0:00:01\r\u001b[K     |███████████████████████████████▏| 2.2MB 30.8MB/s eta 0:00:01\r\u001b[K     |███████████████████████████████▎| 2.2MB 30.8MB/s eta 0:00:01\r\u001b[K     |███████████████████████████████▌| 2.2MB 30.8MB/s eta 0:00:01\r\u001b[K     |███████████████████████████████▋| 2.2MB 30.8MB/s eta 0:00:01\r\u001b[K     |███████████████████████████████▊| 2.2MB 30.8MB/s eta 0:00:01\r\u001b[K     |████████████████████████████████| 2.2MB 30.8MB/s eta 0:00:01\r\u001b[K     |████████████████████████████████| 2.3MB 30.8MB/s \n",
            "\u001b[?25hRequirement already satisfied: requests in /usr/local/lib/python3.7/dist-packages (from transformers) (2.23.0)\n",
            "Requirement already satisfied: regex!=2019.12.17 in /usr/local/lib/python3.7/dist-packages (from transformers) (2019.12.20)\n",
            "Requirement already satisfied: importlib-metadata; python_version < \"3.8\" in /usr/local/lib/python3.7/dist-packages (from transformers) (4.0.1)\n",
            "Collecting huggingface-hub==0.0.8\n",
            "  Downloading https://files.pythonhosted.org/packages/a1/88/7b1e45720ecf59c6c6737ff332f41c955963090a18e72acbcbeac6b25e86/huggingface_hub-0.0.8-py3-none-any.whl\n",
            "Requirement already satisfied: packaging in /usr/local/lib/python3.7/dist-packages (from transformers) (20.9)\n",
            "Collecting tokenizers<0.11,>=0.10.1\n",
            "\u001b[?25l  Downloading https://files.pythonhosted.org/packages/d4/e2/df3543e8ffdab68f5acc73f613de9c2b155ac47f162e725dcac87c521c11/tokenizers-0.10.3-cp37-cp37m-manylinux_2_5_x86_64.manylinux1_x86_64.manylinux_2_12_x86_64.manylinux2010_x86_64.whl (3.3MB)\n",
            "\u001b[K     |████████████████████████████████| 3.3MB 41.8MB/s \n",
            "\u001b[?25hRequirement already satisfied: tqdm>=4.27 in /usr/local/lib/python3.7/dist-packages (from transformers) (4.41.1)\n",
            "Collecting sacremoses\n",
            "\u001b[?25l  Downloading https://files.pythonhosted.org/packages/75/ee/67241dc87f266093c533a2d4d3d69438e57d7a90abb216fa076e7d475d4a/sacremoses-0.0.45-py3-none-any.whl (895kB)\n",
            "\u001b[K     |████████████████████████████████| 901kB 45.4MB/s \n",
            "\u001b[?25hRequirement already satisfied: filelock in /usr/local/lib/python3.7/dist-packages (from transformers) (3.0.12)\n",
            "Requirement already satisfied: numpy>=1.17 in /usr/local/lib/python3.7/dist-packages (from transformers) (1.19.5)\n",
            "Requirement already satisfied: idna<3,>=2.5 in /usr/local/lib/python3.7/dist-packages (from requests->transformers) (2.10)\n",
            "Requirement already satisfied: urllib3!=1.25.0,!=1.25.1,<1.26,>=1.21.1 in /usr/local/lib/python3.7/dist-packages (from requests->transformers) (1.24.3)\n",
            "Requirement already satisfied: chardet<4,>=3.0.2 in /usr/local/lib/python3.7/dist-packages (from requests->transformers) (3.0.4)\n",
            "Requirement already satisfied: certifi>=2017.4.17 in /usr/local/lib/python3.7/dist-packages (from requests->transformers) (2020.12.5)\n",
            "Requirement already satisfied: zipp>=0.5 in /usr/local/lib/python3.7/dist-packages (from importlib-metadata; python_version < \"3.8\"->transformers) (3.4.1)\n",
            "Requirement already satisfied: typing-extensions>=3.6.4; python_version < \"3.8\" in /usr/local/lib/python3.7/dist-packages (from importlib-metadata; python_version < \"3.8\"->transformers) (3.7.4.3)\n",
            "Requirement already satisfied: pyparsing>=2.0.2 in /usr/local/lib/python3.7/dist-packages (from packaging->transformers) (2.4.7)\n",
            "Requirement already satisfied: click in /usr/local/lib/python3.7/dist-packages (from sacremoses->transformers) (7.1.2)\n",
            "Requirement already satisfied: joblib in /usr/local/lib/python3.7/dist-packages (from sacremoses->transformers) (1.0.1)\n",
            "Requirement already satisfied: six in /usr/local/lib/python3.7/dist-packages (from sacremoses->transformers) (1.15.0)\n",
            "Installing collected packages: huggingface-hub, tokenizers, sacremoses, transformers\n",
            "Successfully installed huggingface-hub-0.0.8 sacremoses-0.0.45 tokenizers-0.10.3 transformers-4.6.1\n"
          ],
          "name": "stdout"
        }
      ]
    },
    {
      "cell_type": "code",
      "metadata": {
        "id": "AIUaLkk2oqPK"
      },
      "source": [
        "from transformers import pipeline"
      ],
      "execution_count": null,
      "outputs": []
    },
    {
      "cell_type": "code",
      "metadata": {
        "id": "_WauRbmAIzaG",
        "colab": {
          "base_uri": "https://localhost:8080/",
          "height": 621,
          "referenced_widgets": [
            "bdc73f3fead2435a959100291c5b24b3",
            "fabafa4e319a441d9f8ef9e5ec26f774",
            "66a518b7618d48539f5c1af959279dfd",
            "b9f7c730eb4c4d99ac93d2858bbfbb00",
            "e42d41deb9954414a3bad416262f0b2d",
            "a504525ce6ea44b9a1cc1148a0591c30",
            "7b790d68d2fa4e38b24123d04e4a8814",
            "39521db31c604f859247f7223a292d16",
            "49b12f2dd59b4afc9b32581c4629abe4",
            "0230ee2f8f1d4d8984129ae4b50d5439",
            "b5ce261df173471ea9ec515e2ab6469d",
            "65559fa037be4feb83eaf9382178bcbf",
            "bc6727b81f9d4ea99f438eaed37e8599",
            "1514fb9f50d843b7ad5c2656233a524b",
            "5ff3f9d4e7574000ba28c42fc3e8b9f8",
            "57fe5d5fbf4f4f49aca986eb535d3b5e",
            "45841bba0d214fe89e10a846a7a70c61",
            "ab2a5ef5127845d5a94ec7bf7d01d798",
            "beb1b5df5ef24c52891048f0ce3f7416",
            "b205aaf40e3a41fe87167bf3d3e28e5d",
            "baea0f62d0744229a5abc0ae762bb2d0",
            "1239c35be2f4437fb1f41a28de4fc0d2",
            "958717542f754ea9804411aa9ddbd5bb",
            "44509770181f4c00800914aac708978c",
            "f8c8441b8e1e4e1980f2a9f696f0e099",
            "fa867ccab9ee4d56ab3722df590db316",
            "46cf332cb5474c4a9e9ca14a047c8e4e",
            "89a73376ccb84bc09f9989f21bba9dd4",
            "f924ec240cb3427fbb545cb31b620f9e",
            "f0d1fa19a95346da902dce13e091fc5d",
            "5101c5a4c4164ba7a1f576b1d218fbde",
            "4dc25d8faa4a487199cb11d8e3fff706",
            "dd7f49a985b842ad9e6f4a93b14cd845",
            "84ff886de9304274bad1d8fb5eb3e026",
            "147f904378a7483c81fd85eda82faba4",
            "2d34095dc21a4277a3a40b02102b4791",
            "129f2e032b8245bfb77b03c82b2a43b8",
            "6816c6f68568452fb5f4b122cf7da74c",
            "ff1bbb16fe8f4cb7876d8091fb9e6466",
            "3ce8ff62d7eb4fa5b8ef68b446762b48"
          ]
        },
        "outputId": "1a0c2cbb-3464-4901-fda9-8f371f0f3c41"
      },
      "source": [
        "fill_mask = pipeline(\n",
        "    \"fill-mask\",\n",
        "    model=\"roberta-base\",\n",
        "    tokenizer=\"roberta-base\"\n",
        ")\n",
        "fill_mask(\"Send these <mask> back!\")"
      ],
      "execution_count": null,
      "outputs": [
        {
          "output_type": "display_data",
          "data": {
            "application/vnd.jupyter.widget-view+json": {
              "model_id": "bdc73f3fead2435a959100291c5b24b3",
              "version_minor": 0,
              "version_major": 2
            },
            "text/plain": [
              "HBox(children=(FloatProgress(value=0.0, description='Downloading', max=481.0, style=ProgressStyle(description_…"
            ]
          },
          "metadata": {
            "tags": []
          }
        },
        {
          "output_type": "stream",
          "text": [
            "\n"
          ],
          "name": "stdout"
        },
        {
          "output_type": "display_data",
          "data": {
            "application/vnd.jupyter.widget-view+json": {
              "model_id": "49b12f2dd59b4afc9b32581c4629abe4",
              "version_minor": 0,
              "version_major": 2
            },
            "text/plain": [
              "HBox(children=(FloatProgress(value=0.0, description='Downloading', max=501200538.0, style=ProgressStyle(descri…"
            ]
          },
          "metadata": {
            "tags": []
          }
        },
        {
          "output_type": "stream",
          "text": [
            "\n"
          ],
          "name": "stdout"
        },
        {
          "output_type": "display_data",
          "data": {
            "application/vnd.jupyter.widget-view+json": {
              "model_id": "45841bba0d214fe89e10a846a7a70c61",
              "version_minor": 0,
              "version_major": 2
            },
            "text/plain": [
              "HBox(children=(FloatProgress(value=0.0, description='Downloading', max=898823.0, style=ProgressStyle(descripti…"
            ]
          },
          "metadata": {
            "tags": []
          }
        },
        {
          "output_type": "stream",
          "text": [
            "\n"
          ],
          "name": "stdout"
        },
        {
          "output_type": "display_data",
          "data": {
            "application/vnd.jupyter.widget-view+json": {
              "model_id": "f8c8441b8e1e4e1980f2a9f696f0e099",
              "version_minor": 0,
              "version_major": 2
            },
            "text/plain": [
              "HBox(children=(FloatProgress(value=0.0, description='Downloading', max=456318.0, style=ProgressStyle(descripti…"
            ]
          },
          "metadata": {
            "tags": []
          }
        },
        {
          "output_type": "stream",
          "text": [
            "\n"
          ],
          "name": "stdout"
        },
        {
          "output_type": "display_data",
          "data": {
            "application/vnd.jupyter.widget-view+json": {
              "model_id": "dd7f49a985b842ad9e6f4a93b14cd845",
              "version_minor": 0,
              "version_major": 2
            },
            "text/plain": [
              "HBox(children=(FloatProgress(value=0.0, description='Downloading', max=1355863.0, style=ProgressStyle(descript…"
            ]
          },
          "metadata": {
            "tags": []
          }
        },
        {
          "output_type": "stream",
          "text": [
            "\n"
          ],
          "name": "stdout"
        },
        {
          "output_type": "execute_result",
          "data": {
            "text/plain": [
              "[{'score': 0.16661563515663147,\n",
              "  'sequence': 'Send these pictures back!',\n",
              "  'token': 3493,\n",
              "  'token_str': ' pictures'},\n",
              " {'score': 0.10792822390794754,\n",
              "  'sequence': 'Send these photos back!',\n",
              "  'token': 2356,\n",
              "  'token_str': ' photos'},\n",
              " {'score': 0.07670954614877701,\n",
              "  'sequence': 'Send these emails back!',\n",
              "  'token': 5575,\n",
              "  'token_str': ' emails'},\n",
              " {'score': 0.04860773682594299,\n",
              "  'sequence': 'Send these images back!',\n",
              "  'token': 3156,\n",
              "  'token_str': ' images'},\n",
              " {'score': 0.048417724668979645,\n",
              "  'sequence': 'Send these letters back!',\n",
              "  'token': 5430,\n",
              "  'token_str': ' letters'}]"
            ]
          },
          "metadata": {
            "tags": []
          },
          "execution_count": 5
        }
      ]
    },
    {
      "cell_type": "code",
      "metadata": {
        "colab": {
          "base_uri": "https://localhost:8080/"
        },
        "id": "yaRi4aXdoqVW",
        "outputId": "464fab5b-a893-45d2-b855-4f790d737f57"
      },
      "source": [
        "!git clone https://github.com/cardiffnlp/tweeteval /tmp/tweeteval\n",
        "\n",
        "from transformers import RobertaTokenizer, RobertaForMaskedLM\n",
        "\n",
        "tokenizer = RobertaTokenizer.from_pretrained('roberta-base')\n",
        "model = RobertaForMaskedLM.from_pretrained('roberta-base')"
      ],
      "execution_count": null,
      "outputs": [
        {
          "output_type": "stream",
          "text": [
            "Cloning into '/tmp/tweeteval'...\n",
            "remote: Enumerating objects: 344, done.\u001b[K\n",
            "remote: Counting objects: 100% (26/26), done.\u001b[K\n",
            "remote: Compressing objects: 100% (25/25), done.\u001b[K\n",
            "remote: Total 344 (delta 7), reused 10 (delta 1), pack-reused 318\u001b[K\n",
            "Receiving objects: 100% (344/344), 10.78 MiB | 18.81 MiB/s, done.\n",
            "Resolving deltas: 100% (98/98), done.\n"
          ],
          "name": "stdout"
        }
      ]
    },
    {
      "cell_type": "code",
      "metadata": {
        "colab": {
          "base_uri": "https://localhost:8080/"
        },
        "id": "VQxjOiznoqZ9",
        "outputId": "ceac1687-58d1-44f8-e386-9a992ee8bdcf"
      },
      "source": [
        "from transformers import LineByLineTextDataset\n",
        "\n",
        "dataset = LineByLineTextDataset(\n",
        "    tokenizer=tokenizer,\n",
        "    file_path=\"/tmp/tweeteval/datasets/hate/train_text.txt\",\n",
        "    block_size=512,\n",
        ")"
      ],
      "execution_count": null,
      "outputs": [
        {
          "output_type": "stream",
          "text": [
            "/usr/local/lib/python3.7/dist-packages/transformers/data/datasets/language_modeling.py:124: FutureWarning: This dataset will be removed from the library soon, preprocessing should be handled with the 🤗 Datasets library. You can have a look at this example script for pointers: https://github.com/huggingface/transformers/blob/master/examples/pytorch/language-modeling/run_mlm.py\n",
            "  FutureWarning,\n"
          ],
          "name": "stderr"
        }
      ]
    },
    {
      "cell_type": "code",
      "metadata": {
        "id": "umKj2J4Foqep"
      },
      "source": [
        "from transformers import DataCollatorForLanguageModeling\n",
        "\n",
        "data_collator = DataCollatorForLanguageModeling(\n",
        "    tokenizer=tokenizer, mlm=True, mlm_probability=0.15\n",
        ")"
      ],
      "execution_count": null,
      "outputs": []
    },
    {
      "cell_type": "code",
      "metadata": {
        "id": "ugrwjOBuoqk1"
      },
      "source": [
        "from transformers import Trainer, TrainingArguments\n",
        "\n",
        "training_args = TrainingArguments(\n",
        "    output_dir=\"./roberta-retrained\",\n",
        "    overwrite_output_dir=True,\n",
        "    num_train_epochs=25,\n",
        "    per_device_train_batch_size=48,\n",
        "    save_steps=500,\n",
        "    save_total_limit=2,\n",
        "    seed=1\n",
        ")\n",
        "\n",
        "trainer = Trainer(\n",
        "    model=model,\n",
        "    args=training_args,\n",
        "    data_collator=data_collator,\n",
        "    train_dataset=dataset\n",
        ")"
      ],
      "execution_count": null,
      "outputs": []
    },
    {
      "cell_type": "code",
      "metadata": {
        "colab": {
          "base_uri": "https://localhost:8080/",
          "height": 375
        },
        "id": "L_F3svFaoqrK",
        "outputId": "7172b6db-17a6-4cf1-a8ee-bed785a8d345"
      },
      "source": [
        "trainer.train()"
      ],
      "execution_count": null,
      "outputs": [
        {
          "output_type": "display_data",
          "data": {
            "text/html": [
              "\n",
              "    <div>\n",
              "      \n",
              "      <progress value='4700' max='4700' style='width:300px; height:20px; vertical-align: middle;'></progress>\n",
              "      [4700/4700 1:18:13, Epoch 25/25]\n",
              "    </div>\n",
              "    <table border=\"1\" class=\"dataframe\">\n",
              "  <thead>\n",
              "    <tr style=\"text-align: left;\">\n",
              "      <th>Step</th>\n",
              "      <th>Training Loss</th>\n",
              "    </tr>\n",
              "  </thead>\n",
              "  <tbody>\n",
              "    <tr>\n",
              "      <td>500</td>\n",
              "      <td>2.338900</td>\n",
              "    </tr>\n",
              "    <tr>\n",
              "      <td>1000</td>\n",
              "      <td>2.083500</td>\n",
              "    </tr>\n",
              "    <tr>\n",
              "      <td>1500</td>\n",
              "      <td>1.938200</td>\n",
              "    </tr>\n",
              "    <tr>\n",
              "      <td>2000</td>\n",
              "      <td>1.833700</td>\n",
              "    </tr>\n",
              "    <tr>\n",
              "      <td>2500</td>\n",
              "      <td>1.737200</td>\n",
              "    </tr>\n",
              "    <tr>\n",
              "      <td>3000</td>\n",
              "      <td>1.642300</td>\n",
              "    </tr>\n",
              "    <tr>\n",
              "      <td>3500</td>\n",
              "      <td>1.580800</td>\n",
              "    </tr>\n",
              "    <tr>\n",
              "      <td>4000</td>\n",
              "      <td>1.520000</td>\n",
              "    </tr>\n",
              "    <tr>\n",
              "      <td>4500</td>\n",
              "      <td>1.482600</td>\n",
              "    </tr>\n",
              "  </tbody>\n",
              "</table><p>"
            ],
            "text/plain": [
              "<IPython.core.display.HTML object>"
            ]
          },
          "metadata": {
            "tags": []
          }
        },
        {
          "output_type": "execute_result",
          "data": {
            "text/plain": [
              "TrainOutput(global_step=4700, training_loss=1.781688037628823, metrics={'train_runtime': 4694.3254, 'train_samples_per_second': 1.001, 'total_flos': 559242548728668.0, 'epoch': 25.0, 'init_mem_cpu_alloc_delta': 2153218048, 'init_mem_gpu_alloc_delta': 500087808, 'init_mem_cpu_peaked_delta': 0, 'init_mem_gpu_peaked_delta': 0, 'train_mem_cpu_alloc_delta': -212135936, 'train_mem_gpu_alloc_delta': 1562469376, 'train_mem_cpu_peaked_delta': 222605312, 'train_mem_gpu_peaked_delta': 9978781184})"
            ]
          },
          "metadata": {
            "tags": []
          },
          "execution_count": 10
        }
      ]
    },
    {
      "cell_type": "code",
      "metadata": {
        "id": "fe5SJUURPQzU"
      },
      "source": [
        "trainer.save_model(\"./roberta-retrained\")"
      ],
      "execution_count": null,
      "outputs": []
    },
    {
      "cell_type": "code",
      "metadata": {
        "colab": {
          "base_uri": "https://localhost:8080/"
        },
        "id": "nEgTHDgSoqwp",
        "outputId": "530b34b6-7e91-4577-e9b8-4feab41912aa"
      },
      "source": [
        "from transformers import pipeline\n",
        "\n",
        "fill_mask = pipeline(\n",
        "    \"fill-mask\",\n",
        "    #model=\"/content/drive/MyDrive/roberta-retrained\",\n",
        "    model=\"./roberta-retrained\",\n",
        "    tokenizer=\"roberta-base\"\n",
        ")\n",
        "fill_mask(\"Send these <mask> back!\")"
      ],
      "execution_count": null,
      "outputs": [
        {
          "output_type": "execute_result",
          "data": {
            "text/plain": [
              "[{'score': 0.12151338160037994,\n",
              "  'sequence': 'Send these people back!',\n",
              "  'token': 82,\n",
              "  'token_str': ' people'},\n",
              " {'score': 0.09814539551734924,\n",
              "  'sequence': 'Send these idiots back!',\n",
              "  'token': 39984,\n",
              "  'token_str': ' idiots'},\n",
              " {'score': 0.08012119680643082,\n",
              "  'sequence': 'Send these refugees back!',\n",
              "  'token': 4498,\n",
              "  'token_str': ' refugees'},\n",
              " {'score': 0.0684138834476471,\n",
              "  'sequence': 'Send these guys back!',\n",
              "  'token': 1669,\n",
              "  'token_str': ' guys'},\n",
              " {'score': 0.061683546751737595,\n",
              "  'sequence': 'Send these kids back!',\n",
              "  'token': 1159,\n",
              "  'token_str': ' kids'}]"
            ]
          },
          "metadata": {
            "tags": []
          },
          "execution_count": 14
        }
      ]
    },
    {
      "cell_type": "code",
      "metadata": {
        "id": "StW4q4Z7Qe_Z"
      },
      "source": [
        "# below three cells are for copying the file roberta-retrained to \"drive/My Drive/\"\""
      ],
      "execution_count": null,
      "outputs": []
    },
    {
      "cell_type": "code",
      "metadata": {
        "colab": {
          "base_uri": "https://localhost:8080/"
        },
        "id": "DojoYHP-oq3Q",
        "outputId": "42f04939-1c95-46dc-ee56-ce84ea341a79"
      },
      "source": [
        "# from google.colab import drive\n",
        "# drive.mount('drive')"
      ],
      "execution_count": null,
      "outputs": [
        {
          "output_type": "stream",
          "text": [
            "Mounted at drive\n"
          ],
          "name": "stdout"
        }
      ]
    },
    {
      "cell_type": "code",
      "metadata": {
        "id": "2ba3u681oq-A"
      },
      "source": [
        "# !cp -r roberta-retrained \"drive/My Drive/\""
      ],
      "execution_count": null,
      "outputs": []
    },
    {
      "cell_type": "code",
      "metadata": {
        "id": "C0OvQFBzAwqZ"
      },
      "source": [
        "# from google.colab import drive\n",
        "# drive.mount('/content/drive')"
      ],
      "execution_count": null,
      "outputs": []
    }
  ]
}